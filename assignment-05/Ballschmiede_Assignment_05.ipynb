{
 "cells": [
  {
   "cell_type": "code",
   "execution_count": 2,
   "metadata": {},
   "outputs": [],
   "source": [
    "import pandas as pd\n",
    "%matplotlib inlin"
   ]
  },
  {
   "cell_type": "markdown",
   "metadata": {},
   "source": [
    "We first want to develop an understanding of our current customer base. Let's look at what percentage of rides are taken by subscribers and what percentage are taken by either 24-hour or 3-day customers."
   ]
  },
  {
   "cell_type": "markdown",
   "metadata": {},
   "source": [
    "  bq query --use_legacy_sql=false '\n",
    "SELECT\n",
    "  SUBSCRIBER_TYPE,\n",
    "  COUNT(*) AS RIDES,\n",
    "  COUNT(*) / (\n",
    "  SELECT\n",
    "    COUNT(*)\n",
    "  FROM\n",
    "    `bigquery-public-data.san_francisco.bikeshare_trips`) AS PERC_RIDER_TYPE\n",
    "FROM\n",
    "  `bigquery-public-data.san_francisco.bikeshare_trips`\n",
    "GROUP BY\n",
    "  SUBSCRIBER_TYPE'"
   ]
  },
  {
   "cell_type": "code",
   "execution_count": 20,
   "metadata": {},
   "outputs": [
    {
     "name": "stdout",
     "output_type": "stream",
     "text": [
      "Waiting on bqjob_r4a146552148baaa2_000001640fad1740_1 ... (0s) Current status: DONE   \n",
      "+-----------------+--------+---------------------+\n",
      "| SUBSCRIBER_TYPE | RIDES  |   PERC_RIDER_TYPE   |\n",
      "+-----------------+--------+---------------------+\n",
      "| Customer        | 136809 | 0.13908328995738312 |\n",
      "| Subscriber      | 846839 |  0.8609167100426168 |\n",
      "+-----------------+--------+---------------------+\n"
     ]
    }
   ],
   "source": [
    "! bq query --use_legacy_sql=false 'SELECT SUBSCRIBER_TYPE, COUNT(*) AS RIDES, COUNT(*) / (SELECT COUNT(*) FROM `bigquery-public-data.san_francisco.bikeshare_trips`) AS PERC_RIDER_TYPE FROM `bigquery-public-data.san_francisco.bikeshare_trips` GROUP BY SUBSCRIBER_TYPE'"
   ]
  },
  {
   "cell_type": "markdown",
   "metadata": {},
   "source": [
    "Here we can see that 14% of rides are taken by either 1- or 3-day members. There are two methods by which we can increase ridership: we can recruit completely new customers or we can convert 1- or 3-day members customers into subscribers. The former will be tricky for us to do given the data we are provided. Thus, we will focus on converting temporary riders, who are currently accounting for 14% of rides (136,809 trips), into full-time subscribers.\n",
    "\n",
    "Let's find out whether trip duration varies based on rider type."
   ]
  },
  {
   "cell_type": "markdown",
   "metadata": {},
   "source": [
    "bq query --use_legacy_sql=false '\n",
    "SELECT\n",
    "  SUBSCRIBER_TYPE,\n",
    "  COUNT(*) AS RIDES,\n",
    "  COUNT(*) / (\n",
    "  SELECT\n",
    "    COUNT(*)\n",
    "  FROM\n",
    "    `bigquery-public-data.san_francisco.bikeshare_trips`) AS PERC_RIDER_TYPE,\n",
    "  AVG(duration_sec) AS AVG_TRIP_DURATION\n",
    "FROM\n",
    "  `bigquery-public-data.san_francisco.bikeshare_trips`\n",
    "GROUP BY\n",
    "  SUBSCRIBER_TYPE'"
   ]
  },
  {
   "cell_type": "code",
   "execution_count": 21,
   "metadata": {},
   "outputs": [
    {
     "name": "stdout",
     "output_type": "stream",
     "text": [
      "Waiting on bqjob_r74a26a6f3fe71d6a_000001640fbf67e6_1 ... (1s) Current status: DONE   \n",
      "+-----------------+--------+---------------------+-------------------+\n",
      "| SUBSCRIBER_TYPE | RIDES  |   PERC_RIDER_TYPE   | AVG_TRIP_DURATION |\n",
      "+-----------------+--------+---------------------+-------------------+\n",
      "| Customer        | 136809 | 0.13908328995738312 | 3718.785160333024 |\n",
      "| Subscriber      | 846839 |  0.8609167100426168 | 582.7642397197222 |\n",
      "+-----------------+--------+---------------------+-------------------+\n"
     ]
    }
   ],
   "source": [
    "! bq query --use_legacy_sql=false 'SELECT SUBSCRIBER_TYPE, COUNT(*) AS RIDES, COUNT(*) / (SELECT COUNT(*) FROM `bigquery-public-data.san_francisco.bikeshare_trips`) AS PERC_RIDER_TYPE, AVG(duration_sec) AS AVG_TRIP_DURATION FROM   `bigquery-public-data.san_francisco.bikeshare_trips` GROUP BY SUBSCRIBER_TYPE'"
   ]
  },
  {
   "cell_type": "markdown",
   "metadata": {},
   "source": [
    "Here we can see a staunch difference in average trip duration based on rider type: the average customer trip lasts 3718 seconds (just over an hour) while the average subscriber trip lasts 583 seconds (just under ten minutes). This makes sense intuitively as customers are likely to try “getting their money’s worth” out of any given transaction.\n",
    "\n",
    "Next let's look at the most common trips grouped by time window."
   ]
  },
  {
   "cell_type": "markdown",
   "metadata": {},
   "source": [
    "bq query --use_legacy_sql=false '\n",
    "SELECT\n",
    "  COUNT(*) AS RIDES, START_STATION_NAME, END_STATION_NAME, AVG(DURATION_SEC) AVG_DURATION\n",
    "  CASE\n",
    "    WHEN EXTRACT(HOUR  FROM  START_DATE) BETWEEN 6 AND 12 THEN \"MORNING\"\n",
    "    WHEN EXTRACT(HOUR  FROM  START_DATE) BETWEEN 12 AND 18 THEN \"AFTERNOON\"\n",
    "    ELSE \"NIGHT\"\n",
    "  END AS TIME_WINDOW\n",
    "FROM\n",
    "  `bigquery-public-data.san_francisco.bikeshare_trips`\n",
    "GROUP BY\n",
    "  TIME_WINDOW, START_STATION_NAME, END_STATION_NAME\n",
    "ORDER BY COUNT(*) DESC\n",
    "LIMIT 10'"
   ]
  },
  {
   "cell_type": "code",
   "execution_count": 68,
   "metadata": {},
   "outputs": [
    {
     "name": "stdout",
     "output_type": "stream",
     "text": [
      "\r",
      "Waiting on bqjob_r7ad867d33084de8e_00000164109996e3_1 ... (0s) Current status: DONE   "
     ]
    }
   ],
   "source": [
    "! bq query --use_legacy_sql=false --format=csv 'SELECT COUNT(*) AS RIDES, START_STATION_NAME, END_STATION_NAME, AVG(DURATION_SEC) AVG_DURATION, CASE WHEN EXTRACT(HOUR  FROM  START_DATE) BETWEEN 6 AND 12 THEN \"MORNING\" WHEN EXTRACT(HOUR  FROM  START_DATE) BETWEEN 12 AND 18 THEN \"AFTERNOON\" ELSE \"NIGHT\" END AS TIME_WINDOW FROM `bigquery-public-data.san_francisco.bikeshare_trips` GROUP BY TIME_WINDOW, START_STATION_NAME, END_STATION_NAME ORDER BY COUNT(*) DESC LIMIT 10' > mostcommon.csv"
   ]
  },
  {
   "cell_type": "code",
   "execution_count": 69,
   "metadata": {},
   "outputs": [
    {
     "data": {
      "text/html": [
       "<div>\n",
       "<style scoped>\n",
       "    .dataframe tbody tr th:only-of-type {\n",
       "        vertical-align: middle;\n",
       "    }\n",
       "\n",
       "    .dataframe tbody tr th {\n",
       "        vertical-align: top;\n",
       "    }\n",
       "\n",
       "    .dataframe thead th {\n",
       "        text-align: right;\n",
       "    }\n",
       "</style>\n",
       "<table border=\"1\" class=\"dataframe\">\n",
       "  <thead>\n",
       "    <tr style=\"text-align: right;\">\n",
       "      <th></th>\n",
       "      <th>RIDES</th>\n",
       "      <th>START_STATION_NAME</th>\n",
       "      <th>END_STATION_NAME</th>\n",
       "      <th>AVG_DURATION</th>\n",
       "      <th>TIME_WINDOW</th>\n",
       "    </tr>\n",
       "  </thead>\n",
       "  <tbody>\n",
       "    <tr>\n",
       "      <th>0</th>\n",
       "      <td>5552</td>\n",
       "      <td>2nd at Townsend</td>\n",
       "      <td>Harry Bridges Plaza (Ferry Building)</td>\n",
       "      <td>532.014950</td>\n",
       "      <td>AFTERNOON</td>\n",
       "    </tr>\n",
       "    <tr>\n",
       "      <th>1</th>\n",
       "      <td>5273</td>\n",
       "      <td>Harry Bridges Plaza (Ferry Building)</td>\n",
       "      <td>2nd at Townsend</td>\n",
       "      <td>599.813579</td>\n",
       "      <td>MORNING</td>\n",
       "    </tr>\n",
       "    <tr>\n",
       "      <th>2</th>\n",
       "      <td>5063</td>\n",
       "      <td>Embarcadero at Folsom</td>\n",
       "      <td>San Francisco Caltrain (Townsend at 4th)</td>\n",
       "      <td>670.056488</td>\n",
       "      <td>AFTERNOON</td>\n",
       "    </tr>\n",
       "    <tr>\n",
       "      <th>3</th>\n",
       "      <td>4993</td>\n",
       "      <td>Harry Bridges Plaza (Ferry Building)</td>\n",
       "      <td>Embarcadero at Sansome</td>\n",
       "      <td>1056.502504</td>\n",
       "      <td>MORNING</td>\n",
       "    </tr>\n",
       "    <tr>\n",
       "      <th>4</th>\n",
       "      <td>4783</td>\n",
       "      <td>Embarcadero at Sansome</td>\n",
       "      <td>Steuart at Market</td>\n",
       "      <td>526.946895</td>\n",
       "      <td>AFTERNOON</td>\n",
       "    </tr>\n",
       "    <tr>\n",
       "      <th>5</th>\n",
       "      <td>4740</td>\n",
       "      <td>San Francisco Caltrain 2 (330 Townsend)</td>\n",
       "      <td>Townsend at 7th</td>\n",
       "      <td>303.528692</td>\n",
       "      <td>MORNING</td>\n",
       "    </tr>\n",
       "    <tr>\n",
       "      <th>6</th>\n",
       "      <td>4561</td>\n",
       "      <td>Steuart at Market</td>\n",
       "      <td>2nd at Townsend</td>\n",
       "      <td>528.207849</td>\n",
       "      <td>MORNING</td>\n",
       "    </tr>\n",
       "    <tr>\n",
       "      <th>7</th>\n",
       "      <td>4515</td>\n",
       "      <td>San Francisco Caltrain (Townsend at 4th)</td>\n",
       "      <td>Temporary Transbay Terminal (Howard at Beale)</td>\n",
       "      <td>693.508970</td>\n",
       "      <td>MORNING</td>\n",
       "    </tr>\n",
       "    <tr>\n",
       "      <th>8</th>\n",
       "      <td>4160</td>\n",
       "      <td>Steuart at Market</td>\n",
       "      <td>San Francisco Caltrain (Townsend at 4th)</td>\n",
       "      <td>736.295192</td>\n",
       "      <td>AFTERNOON</td>\n",
       "    </tr>\n",
       "    <tr>\n",
       "      <th>9</th>\n",
       "      <td>4143</td>\n",
       "      <td>Temporary Transbay Terminal (Howard at Beale)</td>\n",
       "      <td>San Francisco Caltrain (Townsend at 4th)</td>\n",
       "      <td>672.406951</td>\n",
       "      <td>AFTERNOON</td>\n",
       "    </tr>\n",
       "  </tbody>\n",
       "</table>\n",
       "</div>"
      ],
      "text/plain": [
       "   RIDES                             START_STATION_NAME  \\\n",
       "0   5552                                2nd at Townsend   \n",
       "1   5273           Harry Bridges Plaza (Ferry Building)   \n",
       "2   5063                          Embarcadero at Folsom   \n",
       "3   4993           Harry Bridges Plaza (Ferry Building)   \n",
       "4   4783                         Embarcadero at Sansome   \n",
       "5   4740        San Francisco Caltrain 2 (330 Townsend)   \n",
       "6   4561                              Steuart at Market   \n",
       "7   4515       San Francisco Caltrain (Townsend at 4th)   \n",
       "8   4160                              Steuart at Market   \n",
       "9   4143  Temporary Transbay Terminal (Howard at Beale)   \n",
       "\n",
       "                                END_STATION_NAME  AVG_DURATION TIME_WINDOW  \n",
       "0           Harry Bridges Plaza (Ferry Building)    532.014950   AFTERNOON  \n",
       "1                                2nd at Townsend    599.813579     MORNING  \n",
       "2       San Francisco Caltrain (Townsend at 4th)    670.056488   AFTERNOON  \n",
       "3                         Embarcadero at Sansome   1056.502504     MORNING  \n",
       "4                              Steuart at Market    526.946895   AFTERNOON  \n",
       "5                                Townsend at 7th    303.528692     MORNING  \n",
       "6                                2nd at Townsend    528.207849     MORNING  \n",
       "7  Temporary Transbay Terminal (Howard at Beale)    693.508970     MORNING  \n",
       "8       San Francisco Caltrain (Townsend at 4th)    736.295192   AFTERNOON  \n",
       "9       San Francisco Caltrain (Townsend at 4th)    672.406951   AFTERNOON  "
      ]
     },
     "execution_count": 69,
     "metadata": {},
     "output_type": "execute_result"
    }
   ],
   "source": [
    "MC = pd.read_csv('mostcommon.csv')\n",
    "MC"
   ]
  },
  {
   "cell_type": "markdown",
   "metadata": {},
   "source": [
    "The two most common trips are 2nd at Townsend to Harry Bridges Plaza during the afternoon and the inverse during the morning. This is a good example of a probable commuter trip.\n",
    "\n",
    "Let's segment this further and look at the ten most common customer trips. "
   ]
  },
  {
   "cell_type": "markdown",
   "metadata": {},
   "source": [
    "bq query --use_legacy_sql=false --format=csv 'SELECT COUNT(*) AS RIDES, START_STATION_NAME, END_STATION_NAME, AVG(DURATION_SEC) AVG_DURATION, CASE WHEN EXTRACT(HOUR  FROM  START_DATE) BETWEEN 6 AND 12 THEN \"MORNING\" WHEN EXTRACT(HOUR  FROM  START_DATE) BETWEEN 12 AND 18 THEN \"AFTERNOON\" ELSE \"NIGHT\" END AS TIME_WINDOW FROM `bigquery-public-data.san_francisco.bikeshare_trips` WHERE SUBSCRIBER_TYPE = 'Customer' GROUP BY TIME_WINDOW, START_STATION_NAME, END_STATION_NAME ORDER BY COUNT(*) DESC LIMIT 10' > mostcommoncustomer.csv"
   ]
  },
  {
   "cell_type": "code",
   "execution_count": 73,
   "metadata": {},
   "outputs": [
    {
     "name": "stdout",
     "output_type": "stream",
     "text": [
      "Waiting on bqjob_rec98ae2fc1225d1_00000164109aca6e_1 ... (0s) Current status: DONE   "
     ]
    }
   ],
   "source": [
    "! bq query --use_legacy_sql=false --format=csv 'SELECT COUNT(*) AS RIDES, START_STATION_NAME, END_STATION_NAME, AVG(DURATION_SEC) AVG_DURATION, CASE WHEN EXTRACT(HOUR  FROM  START_DATE) BETWEEN 6 AND 12 THEN \"MORNING\" WHEN EXTRACT(HOUR  FROM  START_DATE) BETWEEN 12 AND 18 THEN \"AFTERNOON\" ELSE \"NIGHT\" END AS TIME_WINDOW FROM `bigquery-public-data.san_francisco.bikeshare_trips` WHERE SUBSCRIBER_TYPE = \"Customer\" GROUP BY TIME_WINDOW, START_STATION_NAME, END_STATION_NAME ORDER BY COUNT(*) DESC LIMIT 10' > mostcommoncustomer.csv"
   ]
  },
  {
   "cell_type": "code",
   "execution_count": 74,
   "metadata": {},
   "outputs": [
    {
     "data": {
      "text/html": [
       "<div>\n",
       "<style scoped>\n",
       "    .dataframe tbody tr th:only-of-type {\n",
       "        vertical-align: middle;\n",
       "    }\n",
       "\n",
       "    .dataframe tbody tr th {\n",
       "        vertical-align: top;\n",
       "    }\n",
       "\n",
       "    .dataframe thead th {\n",
       "        text-align: right;\n",
       "    }\n",
       "</style>\n",
       "<table border=\"1\" class=\"dataframe\">\n",
       "  <thead>\n",
       "    <tr style=\"text-align: right;\">\n",
       "      <th></th>\n",
       "      <th>RIDES</th>\n",
       "      <th>START_STATION_NAME</th>\n",
       "      <th>END_STATION_NAME</th>\n",
       "      <th>AVG_DURATION</th>\n",
       "      <th>TIME_WINDOW</th>\n",
       "    </tr>\n",
       "  </thead>\n",
       "  <tbody>\n",
       "    <tr>\n",
       "      <th>0</th>\n",
       "      <td>1943</td>\n",
       "      <td>Harry Bridges Plaza (Ferry Building)</td>\n",
       "      <td>Embarcadero at Sansome</td>\n",
       "      <td>2227.812661</td>\n",
       "      <td>AFTERNOON</td>\n",
       "    </tr>\n",
       "    <tr>\n",
       "      <th>1</th>\n",
       "      <td>1536</td>\n",
       "      <td>Embarcadero at Sansome</td>\n",
       "      <td>Embarcadero at Sansome</td>\n",
       "      <td>4511.128255</td>\n",
       "      <td>AFTERNOON</td>\n",
       "    </tr>\n",
       "    <tr>\n",
       "      <th>2</th>\n",
       "      <td>1505</td>\n",
       "      <td>Harry Bridges Plaza (Ferry Building)</td>\n",
       "      <td>Embarcadero at Sansome</td>\n",
       "      <td>2502.603322</td>\n",
       "      <td>MORNING</td>\n",
       "    </tr>\n",
       "    <tr>\n",
       "      <th>3</th>\n",
       "      <td>1032</td>\n",
       "      <td>Harry Bridges Plaza (Ferry Building)</td>\n",
       "      <td>Harry Bridges Plaza (Ferry Building)</td>\n",
       "      <td>5819.851744</td>\n",
       "      <td>AFTERNOON</td>\n",
       "    </tr>\n",
       "    <tr>\n",
       "      <th>4</th>\n",
       "      <td>1002</td>\n",
       "      <td>Embarcadero at Sansome</td>\n",
       "      <td>Harry Bridges Plaza (Ferry Building)</td>\n",
       "      <td>1439.026946</td>\n",
       "      <td>AFTERNOON</td>\n",
       "    </tr>\n",
       "    <tr>\n",
       "      <th>5</th>\n",
       "      <td>786</td>\n",
       "      <td>Embarcadero at Sansome</td>\n",
       "      <td>Embarcadero at Sansome</td>\n",
       "      <td>5624.424936</td>\n",
       "      <td>MORNING</td>\n",
       "    </tr>\n",
       "    <tr>\n",
       "      <th>6</th>\n",
       "      <td>762</td>\n",
       "      <td>Harry Bridges Plaza (Ferry Building)</td>\n",
       "      <td>Harry Bridges Plaza (Ferry Building)</td>\n",
       "      <td>8798.430446</td>\n",
       "      <td>MORNING</td>\n",
       "    </tr>\n",
       "    <tr>\n",
       "      <th>7</th>\n",
       "      <td>727</td>\n",
       "      <td>Embarcadero at Vallejo</td>\n",
       "      <td>Embarcadero at Sansome</td>\n",
       "      <td>2534.141678</td>\n",
       "      <td>AFTERNOON</td>\n",
       "    </tr>\n",
       "    <tr>\n",
       "      <th>8</th>\n",
       "      <td>594</td>\n",
       "      <td>University and Emerson</td>\n",
       "      <td>University and Emerson</td>\n",
       "      <td>8042.436027</td>\n",
       "      <td>AFTERNOON</td>\n",
       "    </tr>\n",
       "    <tr>\n",
       "      <th>9</th>\n",
       "      <td>528</td>\n",
       "      <td>Embarcadero at Vallejo</td>\n",
       "      <td>Embarcadero at Sansome</td>\n",
       "      <td>2666.198864</td>\n",
       "      <td>MORNING</td>\n",
       "    </tr>\n",
       "  </tbody>\n",
       "</table>\n",
       "</div>"
      ],
      "text/plain": [
       "   RIDES                    START_STATION_NAME  \\\n",
       "0   1943  Harry Bridges Plaza (Ferry Building)   \n",
       "1   1536                Embarcadero at Sansome   \n",
       "2   1505  Harry Bridges Plaza (Ferry Building)   \n",
       "3   1032  Harry Bridges Plaza (Ferry Building)   \n",
       "4   1002                Embarcadero at Sansome   \n",
       "5    786                Embarcadero at Sansome   \n",
       "6    762  Harry Bridges Plaza (Ferry Building)   \n",
       "7    727                Embarcadero at Vallejo   \n",
       "8    594                University and Emerson   \n",
       "9    528                Embarcadero at Vallejo   \n",
       "\n",
       "                       END_STATION_NAME  AVG_DURATION TIME_WINDOW  \n",
       "0                Embarcadero at Sansome   2227.812661   AFTERNOON  \n",
       "1                Embarcadero at Sansome   4511.128255   AFTERNOON  \n",
       "2                Embarcadero at Sansome   2502.603322     MORNING  \n",
       "3  Harry Bridges Plaza (Ferry Building)   5819.851744   AFTERNOON  \n",
       "4  Harry Bridges Plaza (Ferry Building)   1439.026946   AFTERNOON  \n",
       "5                Embarcadero at Sansome   5624.424936     MORNING  \n",
       "6  Harry Bridges Plaza (Ferry Building)   8798.430446     MORNING  \n",
       "7                Embarcadero at Sansome   2534.141678   AFTERNOON  \n",
       "8                University and Emerson   8042.436027   AFTERNOON  \n",
       "9                Embarcadero at Sansome   2666.198864     MORNING  "
      ]
     },
     "execution_count": 74,
     "metadata": {},
     "output_type": "execute_result"
    }
   ],
   "source": [
    "MCC = pd.read_csv('mostcommoncustomer.csv')\n",
    "MCC"
   ]
  },
  {
   "cell_type": "markdown",
   "metadata": {},
   "source": [
    "This table yields several interesting findings. The first is that not surprisingly, the average duration of the most common customer trips is much greater than the average duration of all trips. All of the top ten most common customer trips last over 1439 seconds on average and several last more than two hours (7200 seconds). We saw earlier that the average subscriber trip lasts only 582 seconds. \n",
    "\n",
    "A second discovery is that five of the top ten most common customer trips begin and end at the same station. This, coupled with the length of the trips, leads us to believe that a large portion of customer trips can be described as joy rides.\n",
    "\n",
    "Let's do the same thing for subscriber trips."
   ]
  },
  {
   "cell_type": "markdown",
   "metadata": {},
   "source": [
    "bq query --use_legacy_sql=false --format=csv 'SELECT COUNT(*) AS RIDES, START_STATION_NAME, END_STATION_NAME, AVG(DURATION_SEC) AVG_DURATION, CASE WHEN EXTRACT(HOUR  FROM  START_DATE) BETWEEN 6 AND 12 THEN \"MORNING\" WHEN EXTRACT(HOUR  FROM  START_DATE) BETWEEN 12 AND 18 THEN \"AFTERNOON\" ELSE \"NIGHT\" END AS TIME_WINDOW FROM `bigquery-public-data.san_francisco.bikeshare_trips` WHERE SUBSCRIBER_TYPE = 'Subscriber' GROUP BY TIME_WINDOW, START_STATION_NAME, END_STATION_NAME ORDER BY COUNT(*) DESC LIMIT 10' > mostcommonsubscriber.csv"
   ]
  },
  {
   "cell_type": "code",
   "execution_count": 76,
   "metadata": {},
   "outputs": [
    {
     "name": "stdout",
     "output_type": "stream",
     "text": [
      "Waiting on bqjob_r75429942ec837fe5_0000016410a675bf_1 ... (1s) Current status: DONE   "
     ]
    }
   ],
   "source": [
    "! bq query --use_legacy_sql=false --format=csv 'SELECT COUNT(*) AS RIDES, START_STATION_NAME, END_STATION_NAME, AVG(DURATION_SEC) AVG_DURATION, CASE WHEN EXTRACT(HOUR  FROM  START_DATE) BETWEEN 6 AND 12 THEN \"MORNING\" WHEN EXTRACT(HOUR  FROM  START_DATE) BETWEEN 12 AND 18 THEN \"AFTERNOON\" ELSE \"NIGHT\" END AS TIME_WINDOW FROM `bigquery-public-data.san_francisco.bikeshare_trips` WHERE SUBSCRIBER_TYPE = \"Subscriber\" GROUP BY TIME_WINDOW, START_STATION_NAME, END_STATION_NAME ORDER BY COUNT(*) DESC LIMIT 10' > mostcommonsubscriber.csv"
   ]
  },
  {
   "cell_type": "code",
   "execution_count": 77,
   "metadata": {},
   "outputs": [
    {
     "data": {
      "text/html": [
       "<div>\n",
       "<style scoped>\n",
       "    .dataframe tbody tr th:only-of-type {\n",
       "        vertical-align: middle;\n",
       "    }\n",
       "\n",
       "    .dataframe tbody tr th {\n",
       "        vertical-align: top;\n",
       "    }\n",
       "\n",
       "    .dataframe thead th {\n",
       "        text-align: right;\n",
       "    }\n",
       "</style>\n",
       "<table border=\"1\" class=\"dataframe\">\n",
       "  <thead>\n",
       "    <tr style=\"text-align: right;\">\n",
       "      <th></th>\n",
       "      <th>RIDES</th>\n",
       "      <th>START_STATION_NAME</th>\n",
       "      <th>END_STATION_NAME</th>\n",
       "      <th>AVG_DURATION</th>\n",
       "      <th>TIME_WINDOW</th>\n",
       "    </tr>\n",
       "  </thead>\n",
       "  <tbody>\n",
       "    <tr>\n",
       "      <th>0</th>\n",
       "      <td>5134</td>\n",
       "      <td>2nd at Townsend</td>\n",
       "      <td>Harry Bridges Plaza (Ferry Building)</td>\n",
       "      <td>489.053759</td>\n",
       "      <td>AFTERNOON</td>\n",
       "    </tr>\n",
       "    <tr>\n",
       "      <th>1</th>\n",
       "      <td>5099</td>\n",
       "      <td>Harry Bridges Plaza (Ferry Building)</td>\n",
       "      <td>2nd at Townsend</td>\n",
       "      <td>572.605021</td>\n",
       "      <td>MORNING</td>\n",
       "    </tr>\n",
       "    <tr>\n",
       "      <th>2</th>\n",
       "      <td>4932</td>\n",
       "      <td>Embarcadero at Folsom</td>\n",
       "      <td>San Francisco Caltrain (Townsend at 4th)</td>\n",
       "      <td>632.021695</td>\n",
       "      <td>AFTERNOON</td>\n",
       "    </tr>\n",
       "    <tr>\n",
       "      <th>3</th>\n",
       "      <td>4638</td>\n",
       "      <td>San Francisco Caltrain 2 (330 Townsend)</td>\n",
       "      <td>Townsend at 7th</td>\n",
       "      <td>299.492885</td>\n",
       "      <td>MORNING</td>\n",
       "    </tr>\n",
       "    <tr>\n",
       "      <th>4</th>\n",
       "      <td>4449</td>\n",
       "      <td>Steuart at Market</td>\n",
       "      <td>2nd at Townsend</td>\n",
       "      <td>517.991908</td>\n",
       "      <td>MORNING</td>\n",
       "    </tr>\n",
       "    <tr>\n",
       "      <th>5</th>\n",
       "      <td>4448</td>\n",
       "      <td>San Francisco Caltrain (Townsend at 4th)</td>\n",
       "      <td>Temporary Transbay Terminal (Howard at Beale)</td>\n",
       "      <td>691.246853</td>\n",
       "      <td>MORNING</td>\n",
       "    </tr>\n",
       "    <tr>\n",
       "      <th>6</th>\n",
       "      <td>4355</td>\n",
       "      <td>Embarcadero at Sansome</td>\n",
       "      <td>Steuart at Market</td>\n",
       "      <td>401.923307</td>\n",
       "      <td>AFTERNOON</td>\n",
       "    </tr>\n",
       "    <tr>\n",
       "      <th>7</th>\n",
       "      <td>4073</td>\n",
       "      <td>Temporary Transbay Terminal (Howard at Beale)</td>\n",
       "      <td>San Francisco Caltrain (Townsend at 4th)</td>\n",
       "      <td>656.211392</td>\n",
       "      <td>AFTERNOON</td>\n",
       "    </tr>\n",
       "    <tr>\n",
       "      <th>8</th>\n",
       "      <td>4001</td>\n",
       "      <td>Steuart at Market</td>\n",
       "      <td>San Francisco Caltrain (Townsend at 4th)</td>\n",
       "      <td>716.052487</td>\n",
       "      <td>AFTERNOON</td>\n",
       "    </tr>\n",
       "    <tr>\n",
       "      <th>9</th>\n",
       "      <td>3867</td>\n",
       "      <td>Market at Sansome</td>\n",
       "      <td>2nd at South Park</td>\n",
       "      <td>356.143005</td>\n",
       "      <td>MORNING</td>\n",
       "    </tr>\n",
       "  </tbody>\n",
       "</table>\n",
       "</div>"
      ],
      "text/plain": [
       "   RIDES                             START_STATION_NAME  \\\n",
       "0   5134                                2nd at Townsend   \n",
       "1   5099           Harry Bridges Plaza (Ferry Building)   \n",
       "2   4932                          Embarcadero at Folsom   \n",
       "3   4638        San Francisco Caltrain 2 (330 Townsend)   \n",
       "4   4449                              Steuart at Market   \n",
       "5   4448       San Francisco Caltrain (Townsend at 4th)   \n",
       "6   4355                         Embarcadero at Sansome   \n",
       "7   4073  Temporary Transbay Terminal (Howard at Beale)   \n",
       "8   4001                              Steuart at Market   \n",
       "9   3867                              Market at Sansome   \n",
       "\n",
       "                                END_STATION_NAME  AVG_DURATION TIME_WINDOW  \n",
       "0           Harry Bridges Plaza (Ferry Building)    489.053759   AFTERNOON  \n",
       "1                                2nd at Townsend    572.605021     MORNING  \n",
       "2       San Francisco Caltrain (Townsend at 4th)    632.021695   AFTERNOON  \n",
       "3                                Townsend at 7th    299.492885     MORNING  \n",
       "4                                2nd at Townsend    517.991908     MORNING  \n",
       "5  Temporary Transbay Terminal (Howard at Beale)    691.246853     MORNING  \n",
       "6                              Steuart at Market    401.923307   AFTERNOON  \n",
       "7       San Francisco Caltrain (Townsend at 4th)    656.211392   AFTERNOON  \n",
       "8       San Francisco Caltrain (Townsend at 4th)    716.052487   AFTERNOON  \n",
       "9                              2nd at South Park    356.143005     MORNING  "
      ]
     },
     "execution_count": 77,
     "metadata": {},
     "output_type": "execute_result"
    }
   ],
   "source": [
    "MCS = pd.read_csv('mostcommonsubscriber.csv')\n",
    "MCS"
   ]
  },
  {
   "cell_type": "markdown",
   "metadata": {},
   "source": [
    "As expected, the top ten subscriber trips are of much shorter duration than the top ten customer trips. We can also see that none of these trips begin and end at the same place. There are also several inverse trips of each other happening in the morning and in the afternoon, such as the morning trips from Harry Bridges Plaza to 2nd at Townsend in the morning and the afternoon trips from 2nd at Townsend to Harry Bridges Plaza. The most likely explanation for all of this is that these are primarily 'commuter trips' to and from one's place of work."
   ]
  },
  {
   "cell_type": "markdown",
   "metadata": {},
   "source": [
    "Let's now look at which stations have the highest utilization rates. While the exact utilization numbers may not be of utmost importance, we want to make sure to keep an eye on any particularly high or low utilization rates. Utilization rates too high can signify an increased likelihood of no bikes being avaialble for potential riders. On the other hand, utilization rates too low can signify an increased likelihood of no docks being available, meaning riders would have to venture elsewhere to end their trip. Both of the above can cause frustrating user experiences and ultimately result in lost or unrealized future trips. "
   ]
  },
  {
   "cell_type": "markdown",
   "metadata": {},
   "source": [
    "SQL Query:\n",
    "  bq query --use_legacy_sql=false '\n",
    "SELECT\n",
    "  COUNT(*) AS LOGS,\n",
    "  STATION_ID,\n",
    "  AVG(bikes_available) AS AVG_BIKES_AVAIL,\n",
    "  AVG(docks_available) AS AVG_DOCKS_AVAIL,\n",
    "  AVG(bikes_available) / (AVG(bikes_available) + AVG(docks_available)) AS PERC_UTILIZATION\n",
    "FROM\n",
    "  `bigquery-public-data.san_francisco.bikeshare_status`\n",
    "WHERE\n",
    "  bikes_available + docks_available > 0\n",
    "GROUP BY\n",
    "  station_id\n",
    "ORDER BY\n",
    "  PERC_UTILIZATION DESC"
   ]
  },
  {
   "cell_type": "code",
   "execution_count": 25,
   "metadata": {},
   "outputs": [
    {
     "name": "stdout",
     "output_type": "stream",
     "text": [
      "Waiting on bqjob_r4fb47aeda89848d1_000001640fd494e6_1 ... (2s) Current status: DONE   \n",
      "+---------+------------+--------------------+--------------------+---------------------+\n",
      "|  LOGS   | STATION_ID |  AVG_BIKES_AVAIL   |  AVG_DOCKS_AVAIL   |  PERC_UTILIZATION   |\n",
      "+---------+------------+--------------------+--------------------+---------------------+\n",
      "| 1559427 |         50 | 13.335844512118827 |   9.57626679543192 |  0.5820434587241188 |\n",
      "| 1559596 |         70 |  10.98917411945138 | 7.9363944252229786 |  0.5806522585311565 |\n",
      "| 1559597 |         36 |  8.498530710177018 | 6.4835672292265025 |  0.5672457051442402 |\n",
      "| 1559597 |         54 |  8.331310588568634 |  6.628407210324219 |  0.5569162935135863 |\n",
      "| 1559569 |          3 |  8.209531607771089 |  6.779045364456499 |  0.5477192146380923 |\n",
      "| 1559596 |         69 | 12.529001741476579 |  10.39665528765144 |  0.5465056781386004 |\n",
      "| 1559593 |         35 |  5.980509017416742 |  5.004499250766066 |  0.5444246259457814 |\n",
      "| 1559596 |         74 | 12.161548888301898 | 10.223282183334675 |  0.5432941999598819 |\n",
      "| 1559598 |          7 |  8.115232258569154 |  6.843384641426808 |  0.5425122063639015 |\n",
      "|    8911 |         90 | 16.653574234092687 | 14.346201324206037 |    0.53721596154055 |\n",
      "| 1559428 |         39 | 10.016656107239347 |  8.930028189823433 |  0.5286759387652954 |\n",
      "| 1559597 |          9 |  7.751592879442622 |  7.210585170399782 |  0.5180791762817092 |\n",
      "| 1553088 |         73 |  7.914622352371565 |  7.507595191000163 |   0.513196129552275 |\n",
      "| 1559597 |         30 |  7.627448629357509 |  7.354856414830239 |  0.5090971387154148 |\n",
      "| 1559597 |         61 |  13.40106129981009 |  12.99172414412176 |  0.5077547168440769 |\n",
      "| 1559597 |         65 |  7.578609089399393 | 7.3784650778373955 |  0.5066906137298032 |\n",
      "| 1559597 |         28 | 11.552975544323363 |  11.42145118258107 |  0.5028624079134969 |\n",
      "| 1558446 |         55 |  11.52985217325463 | 11.406228383915769 |  0.5026949632704402 |\n",
      "| 1559598 |          6 | 7.4790849949794485 |  7.502330728816015 | 0.49922418100314625 |\n",
      "| 1559597 |         46 |  7.449585373657411 |  7.524011651727987 |  0.4975147495306439 |\n",
      "| 1559596 |         72 |  11.40996770958626 | 11.524749358167076 | 0.49749764411216124 |\n",
      "| 1559597 |         38 |  7.405050150776089 | 7.5923171178195155 |  0.4937566719648334 |\n",
      "| 1559597 |         12 |  9.331279811387109 |  9.570233848872494 | 0.49367897085438756 |\n",
      "| 1559026 |          8 | 7.3719437648890676 |  7.592752782827236 | 0.49262233560052154 |\n",
      "| 1559597 |         60 | 7.3546608514891805 |  7.595139641843381 | 0.49195712376023176 |\n",
      "| 1559556 |          4 |  5.351653291064911 |  5.630504451266891 |  0.4873043546293676 |\n",
      "| 1384691 |         31 |  7.300359430371104 |  7.684228466856492 | 0.48719120475257083 |\n",
      "| 1559597 |         57 |  7.246277083118153 |   7.72759821928358 | 0.48392797033349727 |\n",
      "| 1559597 |         11 |  9.165732557833806 |  9.797759934136867 | 0.48333568100468133 |\n",
      "| 1540519 |         24 |  7.317581931803477 |  7.839993534646451 | 0.48276730985112726 |\n",
      "| 1559595 |         77 | 12.728522468974393 | 13.651651871158844 |  0.4825033491006908 |\n",
      "| 1243983 |         84 |  7.190660161754634 | 7.7924039154875615 | 0.47991920241978686 |\n",
      "| 1559597 |         64 |  7.148739065284169 |  7.827666377916858 | 0.47733343574305714 |\n",
      "| 1504045 |         26 |  7.271412092058414 |  7.976648969944392 | 0.47687453916211736 |\n",
      "| 1559597 |         16 |  7.062868164019294 |  7.903396197863937 | 0.47191924405714303 |\n",
      "|    8962 |         88 |  8.943093059584918 | 10.026891318902033 |  0.4714338652659566 |\n",
      "| 1559354 |          2 | 12.680101503571414 | 14.229972796427163 | 0.47120276823509494 |\n",
      "| 1544641 |         23 |  7.108827229110239 |  8.049561678085713 |  0.4689698405702966 |\n",
      "| 1559597 |         37 |  5.100070723398405 |   5.88377317986635 |   0.464324763563191 |\n",
      "| 1559596 |         71 |  8.705329457115734 | 10.260200718647686 |  0.4590079674250561 |\n",
      "| 1559596 |         68 |  8.691949710053093 | 10.271734474825578 |  0.4583471030900161 |\n",
      "| 1559597 |         27 |  6.843461483960255 |  8.135563866819382 |  0.4568696109192487 |\n",
      "| 1559597 |         33 |  6.781756440926729 |  8.203911010344324 |  0.4525495085873879 |\n",
      "| 1559596 |         76 |  8.495075647796037 | 10.440829548164947 | 0.44862263302881505 |\n",
      "| 1559597 |         66 |  8.448721047809139 | 10.497546481559045 | 0.44593063170426395 |\n",
      "| 1559597 |         29 |  10.24120077173783 | 12.727750181617498 |  0.4458715068239451 |\n",
      "| 1559597 |         42 |  6.636869652865462 |  8.332065270707746 |  0.4433762112502515 |\n",
      "| 1504042 |         25 |  6.787239319114752 |  8.546442187119737 | 0.44263599164722073 |\n",
      "| 1559597 |         49 |  8.382503941723517 | 10.582572292714092 |  0.4419968492666642 |\n",
      "| 1559597 |         34 | 10.087565569823443 | 12.854161042884733 | 0.43970385229137937 |\n",
      "| 1559597 |         13 | 6.5406659540894365 |  8.437793865979518 |  0.4366714623973485 |\n",
      "| 1478458 |         22 | 11.737816021828056 | 15.179151521382398 | 0.43607497772492604 |\n",
      "| 1557628 |         14 |  8.241890233097973 | 10.746241721386644 | 0.43405482186737193 |\n",
      "| 1478473 |         21 |  6.402220399019801 |  8.591000309102697 | 0.42700768058135985 |\n",
      "| 1384590 |         80 |  6.380210748308181 |  8.610682584736306 | 0.42560577322261756 |\n",
      "| 1230188 |         83 |    6.3732413257161 |   8.61682116879695 | 0.42516442663591003 |\n",
      "| 1557523 |         58 |  7.998820563163479 | 10.977659398930266 |   0.421512344709948 |\n",
      "| 1384838 |         32 |  4.615104438208628 | 6.3696157962158475 |  0.4201385506155704 |\n",
      "| 1559597 |         10 |   6.20587690281529 |  8.774682818702493 |  0.4142620181208109 |\n",
      "| 1559597 |         48 |  6.178801318545743 |  8.795347131342295 |  0.4126312317006542 |\n",
      "| 1554419 |         63 |  7.692154431977552 | 11.271282067447668 | 0.40563082710302534 |\n",
      "| 1559598 |          5 |  7.655209868183926 | 11.320708285083757 |  0.4034170998395504 |\n",
      "| 1353406 |         82 |   6.01657965163449 |  8.950489357960578 | 0.40198783394246324 |\n",
      "| 1559597 |         56 |  7.606096318472009 | 11.353170081758279 |  0.4011809401222202 |\n",
      "| 1559597 |         41 |  6.002830859510541 |  8.968509172561882 | 0.40095481410821937 |\n",
      "| 1556706 |         51 | 7.5453206963935875 | 11.408386683162982 | 0.39809207482711034 |\n",
      "| 1559596 |         75 |  7.360018235491701 | 11.574446843926305 | 0.38871012223588675 |\n",
      "| 1559597 |         47 |  7.211715590630088 | 11.746439625108286 |  0.3804017589561237 |\n",
      "| 1559596 |         67 | 10.059100561940364 | 16.868415923098006 |  0.3735621355028958 |\n",
      "| 1559597 |         59 |  8.488464007048002 | 14.479909232962067 | 0.36957184204327576 |\n",
      "| 1559597 |         45 | 5.5270124269282155 |  9.452558577632542 |  0.3689700075686702 |\n",
      "| 1557562 |         62 |  6.011247706351384 | 12.937476004165458 |  0.3172376038717081 |\n",
      "|    8942 |         89 |  5.730485350033547 | 13.269514649966451 |  0.3016044921070288 |\n",
      "|    8903 |         91 |  5.130630124677075 | 29.826013703246105 |  0.1467712446862177 |\n",
      "+---------+------------+--------------------+--------------------+---------------------+\n"
     ]
    }
   ],
   "source": [
    "! bq query --use_legacy_sql=false 'SELECT COUNT(*) AS LOGS, STATION_ID, AVG(bikes_available) AS AVG_BIKES_AVAIL, AVG(docks_available) AS AVG_DOCKS_AVAIL, AVG(bikes_available) / (AVG(bikes_available) + AVG(docks_available)) AS PERC_UTILIZATION FROM `bigquery-public-data.san_francisco.bikeshare_status` WHERE bikes_available + docks_available > 0 GROUP BY station_id ORDER BY PERC_UTILIZATION DESC'"
   ]
  },
  {
   "cell_type": "markdown",
   "metadata": {},
   "source": [
    "We have a couple of takeaways from this table. The first is that in general, Ford is doing well in their dock station planning as most of the station utilization rates hovering right around 50%. All but one station have utilization rates between 30 and 60%. \n",
    "\n",
    "Stations 50 & 70 have utilization rates higher than 58%. These would be good places to start if/when we are looking to add docks to a station. (Also a note that we are assuming consistent station logging here.)\n",
    "\n",
    "Next let's look at which zip codes most customers hail from."
   ]
  },
  {
   "cell_type": "markdown",
   "metadata": {},
   "source": [
    "bq query --use_legacy_sql=false --format=csv 'SELECT ZIP_CODE, COUNT(*) RIDES_PER_ZIP_CODE FROM `bigquery-public-data.san_francisco.bikeshare_trips` WHERE SUBSCRIBER_TYPE = \"Customer\" AND LENGTH(ZIP_CODE) = 5 GROUP BY ZIP_CODE, SUBSCRIBER_TYPE ORDER BY RIDES_PER_ZIP_CODE DESC LIMIT 10' > result.csv"
   ]
  },
  {
   "cell_type": "code",
   "execution_count": 85,
   "metadata": {},
   "outputs": [
    {
     "name": "stdout",
     "output_type": "stream",
     "text": [
      "\r",
      "Waiting on bqjob_r2fcb90e8cfa60adf_0000016410b2dff3_1 ... (0s) Current status: DONE   "
     ]
    }
   ],
   "source": [
    "! bq query --use_legacy_sql=false --format=csv 'SELECT ZIP_CODE, COUNT(*) RIDES_PER_ZIP_CODE FROM `bigquery-public-data.san_francisco.bikeshare_trips` WHERE SUBSCRIBER_TYPE = \"Customer\" AND LENGTH(ZIP_CODE) = 5 GROUP BY ZIP_CODE, SUBSCRIBER_TYPE ORDER BY RIDES_PER_ZIP_CODE DESC LIMIT 10' > ZC.csv"
   ]
  },
  {
   "cell_type": "code",
   "execution_count": 86,
   "metadata": {},
   "outputs": [
    {
     "data": {
      "text/html": [
       "<div>\n",
       "<style scoped>\n",
       "    .dataframe tbody tr th:only-of-type {\n",
       "        vertical-align: middle;\n",
       "    }\n",
       "\n",
       "    .dataframe tbody tr th {\n",
       "        vertical-align: top;\n",
       "    }\n",
       "\n",
       "    .dataframe thead th {\n",
       "        text-align: right;\n",
       "    }\n",
       "</style>\n",
       "<table border=\"1\" class=\"dataframe\">\n",
       "  <thead>\n",
       "    <tr style=\"text-align: right;\">\n",
       "      <th></th>\n",
       "      <th>ZIP_CODE</th>\n",
       "      <th>RIDES_PER_ZIP_CODE</th>\n",
       "    </tr>\n",
       "  </thead>\n",
       "  <tbody>\n",
       "    <tr>\n",
       "      <th>0</th>\n",
       "      <td>94107</td>\n",
       "      <td>2876</td>\n",
       "    </tr>\n",
       "    <tr>\n",
       "      <th>1</th>\n",
       "      <td>94105</td>\n",
       "      <td>1650</td>\n",
       "    </tr>\n",
       "    <tr>\n",
       "      <th>2</th>\n",
       "      <td>94103</td>\n",
       "      <td>1555</td>\n",
       "    </tr>\n",
       "    <tr>\n",
       "      <th>3</th>\n",
       "      <td>94102</td>\n",
       "      <td>1505</td>\n",
       "    </tr>\n",
       "    <tr>\n",
       "      <th>4</th>\n",
       "      <td>94109</td>\n",
       "      <td>1347</td>\n",
       "    </tr>\n",
       "    <tr>\n",
       "      <th>5</th>\n",
       "      <td>95112</td>\n",
       "      <td>1312</td>\n",
       "    </tr>\n",
       "    <tr>\n",
       "      <th>6</th>\n",
       "      <td>94133</td>\n",
       "      <td>1302</td>\n",
       "    </tr>\n",
       "    <tr>\n",
       "      <th>7</th>\n",
       "      <td>94111</td>\n",
       "      <td>1027</td>\n",
       "    </tr>\n",
       "    <tr>\n",
       "      <th>8</th>\n",
       "      <td>94110</td>\n",
       "      <td>918</td>\n",
       "    </tr>\n",
       "    <tr>\n",
       "      <th>9</th>\n",
       "      <td>94040</td>\n",
       "      <td>827</td>\n",
       "    </tr>\n",
       "  </tbody>\n",
       "</table>\n",
       "</div>"
      ],
      "text/plain": [
       "   ZIP_CODE  RIDES_PER_ZIP_CODE\n",
       "0     94107                2876\n",
       "1     94105                1650\n",
       "2     94103                1555\n",
       "3     94102                1505\n",
       "4     94109                1347\n",
       "5     95112                1312\n",
       "6     94133                1302\n",
       "7     94111                1027\n",
       "8     94110                 918\n",
       "9     94040                 827"
      ]
     },
     "execution_count": 86,
     "metadata": {},
     "output_type": "execute_result"
    }
   ],
   "source": [
    "ZipCodes = pd.read_csv('ZC.csv')\n",
    "ZipCodes\n"
   ]
  },
  {
   "cell_type": "markdown",
   "metadata": {},
   "source": [
    "It is important to note that these zip codes are entered by customers manually at time of sign-up and thus should be taken with a grain of salt. However, the fact that the vast majority of them come from a small subset of zip codes can be used to target our marketing efforts."
   ]
  },
  {
   "cell_type": "markdown",
   "metadata": {},
   "source": [
    "Based on the above report, we have a few recommendations for Ford GoBike which we believe will increase ridership in the San Francisco area. There are two primary ways to increase ridership: increase the general public's interest in taking one-time trips (often joy rides) and to convert customers into subscribers. \n",
    "\n",
    "Based on our research, we recommend offering discounts to customers who pick up and return their bikes at the same station. This will serve to promote \"joy rides\" around the city for visitors and others who have no interest in becoming subscribers. Given the nature of customer trips, we believe that a large majority of these are taken by travellers. Visitors to San Francisco tend to travel with others so we could offer quantity discounts for groups to entice them into biking around the city rather than walking, Segwaying, or taking the hop-on / hop-off tour buses. \n",
    "\n",
    "A different approach would be to add a couple docks to the stations with utilization rates higher than 55%. The goal here would be the optimize the user experience by reducing the chance that a station will either have no bikes to use or no docks available to return a bike in. Given our research, we recommend adding a couple of docks to stations 50, 70, 36, and 54. \n",
    "\n",
    "Lastly, we recommend increasing our marketing and advertising in the following zip codes: 94107, 94105, 94103, 94102, 94109, 95112, 94133, and 94111. These areas account for a good portion of our customers. By offering discounts or kickbacks in this area, we can likely convert some of our customers into full-time subscribers and recruit new riders through network effects."
   ]
  },
  {
   "cell_type": "code",
   "execution_count": null,
   "metadata": {},
   "outputs": [],
   "source": []
  }
 ],
 "metadata": {
  "kernelspec": {
   "display_name": "Python 3",
   "language": "python",
   "name": "python3"
  },
  "language_info": {
   "codemirror_mode": {
    "name": "ipython",
    "version": 3
   },
   "file_extension": ".py",
   "mimetype": "text/x-python",
   "name": "python",
   "nbconvert_exporter": "python",
   "pygments_lexer": "ipython3",
   "version": "3.5.2"
  }
 },
 "nbformat": 4,
 "nbformat_minor": 2
}
